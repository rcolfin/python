{
 "cells": [
  {
   "cell_type": "code",
   "execution_count": 1,
   "id": "53e8284a-058b-4662-826c-ff30ad3f2528",
   "metadata": {},
   "outputs": [],
   "source": [
    "import sys\n",
    "from pathlib import Path\n",
    "\n",
    "rootpath = str(Path.cwd().parent.resolve())\n",
    "sys.path.append(rootpath)"
   ]
  },
  {
   "cell_type": "code",
   "execution_count": null,
   "id": "5959ca6d",
   "metadata": {},
   "outputs": [],
   "source": [
    "import github\n",
    "from pathlib import Path\n",
    "from getpass import getuser\n",
    "import json\n",
    "\n",
    "client_id = \"1027349\"\n",
    "installation_id = \"56042046\"\n",
    "signing_key = \"~/.ssh/interactionapp.2024-10-16.private-key.pem\"\n",
    "\n",
    "owner = getuser()\n",
    "repo = \"python\"\n",
    "provider = github.providers.Application(client_id, Path(signing_key).expanduser().read_bytes(), installation_id)\n",
    "client = github.GitHub(provider)\n",
    "\n",
    "for workflow in client.workflows(owner, repo):\n",
    "    print(json.dumps(workflow, indent=False))\n",
    "\n",
    "client.delete_workflow_runs(owner, repo)"
   ]
  }
 ],
 "metadata": {
  "kernelspec": {
   "display_name": "pygithub-lAr_8AKn-py3.13",
   "language": "python",
   "name": "python3"
  },
  "language_info": {
   "codemirror_mode": {
    "name": "ipython",
    "version": 3
   },
   "file_extension": ".py",
   "mimetype": "text/x-python",
   "name": "python",
   "nbconvert_exporter": "python",
   "pygments_lexer": "ipython3",
   "version": "3.13.0"
  }
 },
 "nbformat": 4,
 "nbformat_minor": 5
}
