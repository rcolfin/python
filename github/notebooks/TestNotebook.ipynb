{
 "cells": [
  {
   "cell_type": "code",
   "execution_count": null,
   "id": "0",
   "metadata": {},
   "outputs": [],
   "source": [
    "import sys\n",
    "from pathlib import Path\n",
    "\n",
    "rootpath = str(Path.cwd().parent.resolve())\n",
    "sys.path.append(rootpath)"
   ]
  },
  {
   "cell_type": "code",
   "execution_count": null,
   "id": "1",
   "metadata": {},
   "outputs": [],
   "source": [
    "import json\n",
    "from getpass import getuser\n",
    "from pathlib import Path\n",
    "\n",
    "import github\n",
    "\n",
    "client_id = \"1027349\"\n",
    "installation_id = \"56042046\"\n",
    "signing_key = \"~/.ssh/interactionapp.2024-10-16.private-key.pem\"\n",
    "\n",
    "owner = getuser()\n",
    "async with (\n",
    "    github.providers.Application(\n",
    "        client_id, Path(signing_key).expanduser().read_bytes(), installation_id\n",
    "    ) as provider,\n",
    "    github.GitHub(provider) as client,\n",
    "):\n",
    "    workflows = client.workflows(owner, \"python\")\n",
    "    async for workflow in workflows:\n",
    "        print(json.dumps(workflow, indent=True))  # noqa: T201"
   ]
  }
 ],
 "metadata": {
  "kernelspec": {
   "display_name": "Python 3 (ipykernel)",
   "language": "python",
   "name": "python3"
  },
  "language_info": {
   "codemirror_mode": {
    "name": "ipython",
    "version": 3
   },
   "file_extension": ".py",
   "mimetype": "text/x-python",
   "name": "python",
   "nbconvert_exporter": "python",
   "pygments_lexer": "ipython3",
   "version": "3.13.0"
  }
 },
 "nbformat": 4,
 "nbformat_minor": 5
}
